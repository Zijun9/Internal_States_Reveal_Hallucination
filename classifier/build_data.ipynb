{
 "cells": [
  {
   "cell_type": "markdown",
   "metadata": {},
   "source": [
    "# Natural Instruction"
   ]
  },
  {
   "cell_type": "code",
   "execution_count": null,
   "metadata": {},
   "outputs": [],
   "source": [
    "dataset_root_path = \"generate/NI_output\"\n",
    "model_name = 'Llama2-7B-Chat'\n",
    "for task in [\"Translation\"]:\n",
    "     #[\"Code_to_Text\", \"Data_to_Text\", \"Explanation\", \"Dialogue_Generation\", \"Grammar_Error_Correction\", \"Number_Conversion\", \"Overlap_Extraction\", \"Paraphrasing\", \"Preposition_Prediction\", \"Sentence_Compression\", \"Text_to_Code\", \"Title_Generation\", \"Summarization\"]:\n",
    "    print(task)\n",
    "    task_path  = f\"{dataset_root_path}/{task}\"\n",
    "    print(\"label_data...\")\n",
    "    get_stats_for_task(task_path, model_name)\n",
    "    \n",
    "    for source in os.listdir(f\"{dataset_root_path}/{task}\"):\n",
    "        if not os.path.isdir(f\"{dataset_root_path}/{task}/{source}\"):\n",
    "            continue\n",
    "        label_data_comprehensive(f\"{task_path}/{source}/{model_name}_\"+\"{split}/logits_with_metrics.csv\",\n",
    "                    f\"{task_path}/{source}/{model_name}_train/hallucinated_ids.txt\", \n",
    "                    f\"{task_path}/{source}/{model_name}_train/ok_ids.txt\")\n",
    "    \n",
    "    out_dir = f\"classifier/NI/{task}/dataset/\"\n",
    "    print(\"write_data...\")\n",
    "    write_data(task_path, out_dir, model_name)\n",
    "    print(\"write_data_comprehensive...\")\n",
    "    write_data_comprehensive(task_path, out_dir, model_name)"
   ]
  },
  {
   "cell_type": "code",
   "execution_count": null,
   "metadata": {},
   "outputs": [],
   "source": [
    "dataset_root_path = \"generate/NI_output\"\n",
    "model_name = 'Llama2-7B-Chat'\n",
    "for task in [\"split_trans\"]:\n",
    "    print(task)\n",
    "    task_path  = f\"{dataset_root_path}/{task}\"\n",
    "    print(\"label_data...\")\n",
    "    get_stats_for_task(task_path, model_name)\n",
    "    \n",
    "    for source in os.listdir(f\"{dataset_root_path}/{task}\"):\n",
    "        if not os.path.isdir(f\"{dataset_root_path}/{task}/{source}\"):\n",
    "            continue\n",
    "        label_data_comprehensive(f\"{task_path}/{source}/{model_name}_\"+\"{split}/logits_with_metrics.csv\",\n",
    "                    f\"{task_path}/{source}/{model_name}_train/hallucinated_ids.txt\", \n",
    "                    f\"{task_path}/{source}/{model_name}_train/ok_ids.txt\")\n",
    "    \n",
    "    out_dir = f\"classifier/NI/{task}/dataset/\"\n",
    "    print(\"write_data...\")\n",
    "    write_data(task_path, out_dir, model_name)\n",
    "    print(\"write_data_comprehensive...\")\n",
    "    write_data_comprehensive(task_path, out_dir, model_name)\n"
   ]
  }
 ],
 "metadata": {
  "kernelspec": {
   "display_name": "Python 3",
   "language": "python",
   "name": "python3"
  },
  "language_info": {
   "codemirror_mode": {
    "name": "ipython",
    "version": 3
   },
   "file_extension": ".py",
   "mimetype": "text/x-python",
   "name": "python",
   "nbconvert_exporter": "python",
   "pygments_lexer": "ipython3",
   "version": "3.8.17"
  }
 },
 "nbformat": 4,
 "nbformat_minor": 2
}
