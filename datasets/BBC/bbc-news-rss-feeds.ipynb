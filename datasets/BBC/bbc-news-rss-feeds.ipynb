{
 "cells": [
  {
   "cell_type": "code",
   "execution_count": 18,
   "id": "b78b2894",
   "metadata": {},
   "outputs": [],
   "source": [
    "import datasets\n",
    "import csv\n",
    "import pandas as pd\n",
    "import numpy as np\n",
    "from sklearn.model_selection import train_test_split\n"
   ]
  },
  {
   "cell_type": "code",
   "execution_count": 7,
   "id": "da3a3d9a",
   "metadata": {},
   "outputs": [
    {
     "name": "stderr",
     "output_type": "stream",
     "text": [
      "Downloading data: 100%|██████████| 2.25M/2.25M [00:00<00:00, 2.69MB/s]\n"
     ]
    },
    {
     "data": {
      "application/vnd.jupyter.widget-view+json": {
       "model_id": "717f066a3c0b4d74bd5b3908405d79e5",
       "version_major": 2,
       "version_minor": 0
      },
      "text/plain": [
       "Generating train split:   0%|          | 0/1230 [00:00<?, ? examples/s]"
      ]
     },
     "metadata": {},
     "output_type": "display_data"
    }
   ],
   "source": [
    "ds_202001 = datasets.load_dataset('RealTimeData/bbc_news_alltime', '2020-01')\n",
    "ds_202401 = datasets.load_dataset('RealTimeData/bbc_news_alltime', '2024-01')"
   ]
  },
  {
   "cell_type": "code",
   "execution_count": 15,
   "id": "38cd6427",
   "metadata": {},
   "outputs": [
    {
     "data": {
      "application/vnd.jupyter.widget-view+json": {
       "model_id": "cfcfdbf26c3348b2a04f7a4133d578e6",
       "version_major": 2,
       "version_minor": 0
      },
      "text/plain": [
       "Creating CSV from Arrow format:   0%|          | 0/2 [00:00<?, ?ba/s]"
      ]
     },
     "metadata": {},
     "output_type": "display_data"
    },
    {
     "data": {
      "text/plain": [
       "4689193"
      ]
     },
     "execution_count": 15,
     "metadata": {},
     "output_type": "execute_result"
    }
   ],
   "source": [
    "ds_202001[\"train\"].to_csv('bbc_news_2020-01.csv', index=False)\n",
    "ds_202401[\"train\"].to_csv('bbc_news_2024-01.csv', index=False)"
   ]
  },
  {
   "cell_type": "code",
   "execution_count": 20,
   "id": "b17898f5",
   "metadata": {
    "execution": {
     "iopub.execute_input": "2024-06-14T00:24:32.944648Z",
     "iopub.status.busy": "2024-06-14T00:24:32.943867Z",
     "iopub.status.idle": "2024-06-14T00:24:32.950490Z",
     "shell.execute_reply": "2024-06-14T00:24:32.949728Z",
     "shell.execute_reply.started": "2023-07-15T15:30:05.931163Z"
    },
    "papermill": {
     "duration": 0.062729,
     "end_time": "2024-06-14T00:24:32.950664",
     "exception": false,
     "start_time": "2024-06-14T00:24:32.887935",
     "status": "completed"
    },
    "tags": []
   },
   "outputs": [],
   "source": [
    "import re\n",
    "\n",
    "X = list(pd.read_csv('bbc_news_2024-01.csv').itertuples())\n",
    "unseen_X_train, X_val_test, _, _ = train_test_split(X, len(X)*[1], test_size=0.2, random_state=42)\n",
    "unseen_X_val, unseen_X_test, _, _ = train_test_split(X_val_test, len(X_val_test)*[1], test_size=0.5, random_state=42)\n",
    "\n",
    "X = list(pd.read_csv('bbc_news_2020-01.csv').itertuples())\n",
    "seen_X_train, X_val_test, _, _ = train_test_split(X, len(X)*[1], test_size=0.2, random_state=42)\n",
    "seen_X_val, seen_X_test, _, _ = train_test_split(X_val_test, len(X_val_test)*[1], test_size=0.5, random_state=42)\n",
    "\n",
    "idx = 0\n",
    "with open('train_comprehensive.csv', 'w') as f:\n",
    "    writer = csv.DictWriter(f, fieldnames=[\"id\", \"question\", \"label\"])\n",
    "    writer.writeheader()\n",
    "    \n",
    "    for raw in unseen_X_train:\n",
    "        title = re.sub(\"-* *BBC News\", \"\", raw.title).strip()\n",
    "        writer.writerow({\"id\": f\"train_{idx}\", \"question\": f\"Tell me more about the news: {title}\", \"label\": \"unseen\"})\n",
    "        idx += 1\n",
    "\n",
    "    for raw in seen_X_train:\n",
    "        title = re.sub(\"-* *BBC News\", \"\", raw.title).strip()\n",
    "        writer.writerow({\"id\": f\"train_{idx}\", \"question\": f\"Tell me more about the news: {title}\", \"label\": \"seen\"})\n",
    "        idx += 1\n",
    "    \n",
    "    \n",
    "with open('val_comprehensive.csv', 'w') as f:\n",
    "    writer = csv.DictWriter(f, fieldnames=[\"id\", \"question\", \"label\"])\n",
    "    writer.writeheader()\n",
    "    \n",
    "    for raw in unseen_X_val:\n",
    "        title = re.sub(\"-* *BBC News\", \"\", raw.title).strip()\n",
    "        writer.writerow({\"id\": f\"val_{idx}\", \"question\": f\"Tell me more about the news: {title}\", \"label\": \"unseen\"})\n",
    "        idx += 1\n",
    "\n",
    "    for raw in seen_X_val:\n",
    "        title = re.sub(\"-* *BBC News\", \"\", raw.title).strip()\n",
    "        writer.writerow({\"id\": f\"val_{idx}\", \"question\": f\"Tell me more about the news: {title}\", \"label\": \"seen\"})\n",
    "        idx += 1\n",
    "\n",
    "with open('test_comprehensive.csv', 'w') as f:\n",
    "    writer = csv.DictWriter(f, fieldnames=[\"id\", \"question\", \"label\"])\n",
    "    writer.writeheader()\n",
    "    \n",
    "    for raw in unseen_X_test:\n",
    "        title = re.sub(\"-* *BBC News\", \"\", raw.title).strip()\n",
    "        writer.writerow({\"id\": f\"test_{idx}\", \"question\": f\"Tell me more about the news: {title}\", \"label\": \"unseen\"})\n",
    "        idx += 1\n",
    "\n",
    "    for raw in seen_X_test:\n",
    "        title = re.sub(\"-* *BBC News\", \"\", raw.title).strip()\n",
    "        writer.writerow({\"id\": f\"test_{idx}\", \"question\": f\"Tell me more about the news: {title}\", \"label\": \"seen\"})\n",
    "        idx += 1\n"
   ]
  },
  {
   "cell_type": "code",
   "execution_count": null,
   "id": "0aed8951",
   "metadata": {},
   "outputs": [],
   "source": [
    "\n",
    "conda deactivate\n",
    "conda activate value\n",
    "cd ~/Hallu_source/generate\n",
    "\n",
    "GPUID=1\n",
    "MODEL='Llama2-7B-Chat'\n",
    "for S in val test\n",
    "do\n",
    "CUDA_VISIBLE_DEVICES=$GPUID python save_hidden_states.py \\\n",
    "--dataset_path datasets/BBC/${S}_comprehensive.csv \\\n",
    "--output_dir datasets/BBC/Llama2-7B-Chat_${S} \\\n",
    "--layers_to_process 32 \\\n",
    "--model_name $MODEL \\\n",
    "--max_sample -1 \\\n",
    "--batch_size 16 \\\n",
    "--type last \\\n",
    "--ignore_nan\n",
    "\n",
    "done\n"
   ]
  }
 ],
 "metadata": {
  "kernelspec": {
   "display_name": "Python 3",
   "language": "python",
   "name": "python3"
  },
  "language_info": {
   "codemirror_mode": {
    "name": "ipython",
    "version": 3
   },
   "file_extension": ".py",
   "mimetype": "text/x-python",
   "name": "python",
   "nbconvert_exporter": "python",
   "pygments_lexer": "ipython3",
   "version": "3.8.17"
  },
  "papermill": {
   "default_parameters": {},
   "duration": 44.954531,
   "end_time": "2024-06-14T00:24:35.119488",
   "environment_variables": {},
   "exception": null,
   "input_path": "__notebook__.ipynb",
   "output_path": "__notebook__.ipynb",
   "parameters": {},
   "start_time": "2024-06-14T00:23:50.164957",
   "version": "2.3.3"
  }
 },
 "nbformat": 4,
 "nbformat_minor": 5
}
